{
 "cells": [
  {
   "cell_type": "code",
   "execution_count": 23,
   "id": "905c9e45",
   "metadata": {},
   "outputs": [],
   "source": [
    "import pickle"
   ]
  },
  {
   "cell_type": "code",
   "execution_count": 24,
   "id": "fdb913ea",
   "metadata": {},
   "outputs": [
    {
     "data": {
      "text/plain": [
       "'3_'"
      ]
     },
     "execution_count": 24,
     "metadata": {},
     "output_type": "execute_result"
    }
   ],
   "source": [
    "with open(\n",
    "    \"/bd_byta6000i0/users/surgicaldinov2/kyyang/sam2-video-training/baseline_results/endovis17/3_mem/eval.pkl\",\n",
    "    \"rb\",\n",
    ") as f:\n",
    "    my = pickle.load(f)\n",
    "my[\"videos\"][0][\"video_id\"]"
   ]
  },
  {
   "cell_type": "code",
   "execution_count": 25,
   "id": "9ab739e2",
   "metadata": {},
   "outputs": [
    {
     "data": {
      "text/plain": [
       "'10_'"
      ]
     },
     "execution_count": 25,
     "metadata": {},
     "output_type": "execute_result"
    }
   ],
   "source": [
    "wl_path = \"/bd_byta6000i0/users/sam2/wl/result/endovis17_script_1_point_finetuned_all_0/eval/eval_new.pkl\"\n",
    "with open(wl_path, \"rb\") as f:\n",
    "    wl = pickle.load(f)\n",
    "wl[\"videos\"][0][\"video_id\"]"
   ]
  },
  {
   "cell_type": "code",
   "execution_count": 26,
   "id": "7ccc73dd",
   "metadata": {},
   "outputs": [
    {
     "name": "stdout",
     "output_type": "stream",
     "text": [
      "3_ {'iou': 0.840019116737023, 'mae': 3.7088925090020575, 'dice': 0.882240351740542}\n",
      "10_ {'iou': 0.9377312133789691, 'mae': 0.740861233281893, 'dice': 0.9667238851225719}\n",
      "5_ {'iou': 0.47475616305804386, 'mae': 6.366179075915404, 'dice': 0.5147160433502075}\n",
      "9_ {'iou': 0.7620653426767863, 'mae': 0.7482135308247505, 'dice': 0.8091089616678343}\n",
      "2_ {'iou': 0.4269234029664785, 'mae': 4.979805555555556, 'dice': 0.5807476305702503}\n",
      "6_ {'iou': 0.7970356199718869, 'mae': 0.4484479199269692, 'dice': 0.863178673765358}\n",
      "7_ {'iou': 0.6468250057830743, 'mae': 8.758988603645118, 'dice': 0.6916602917101624}\n",
      "8_ {'iou': 0.9429184029292043, 'mae': 0.2766048900462963, 'dice': 0.9703701900053323}\n",
      "4_ {'iou': 0.7911954712977459, 'mae': 1.459481712962963, 'dice': 0.873969764954329}\n",
      "1_ {'iou': 0.7101852439493326, 'mae': 0.6704143553464395, 'dice': 0.7757703521910035}\n"
     ]
    }
   ],
   "source": [
    "for video in my[\"videos\"]:\n",
    "    print(video[\"video_id\"], video[\"avg_scores\"])"
   ]
  },
  {
   "cell_type": "code",
   "execution_count": 27,
   "id": "94225bb8",
   "metadata": {},
   "outputs": [
    {
     "name": "stdout",
     "output_type": "stream",
     "text": [
      "10_ {'iou': 0.11074978776528425, 'mae': 7.581283336892819, 'dice': 0.11363051488912279}\n",
      "5_ {'iou': 0.7578023853992855, 'mae': 1.0001534419770706, 'dice': 0.8000355929665006}\n",
      "7_ {'iou': 0.7474725476750073, 'mae': 5.2391378411802005, 'dice': 0.8065612250024122}\n",
      "9_ {'iou': 0.7428542860627777, 'mae': 0.9022251267721968, 'dice': 0.780547513053758}\n",
      "8_ {'iou': 0.9455002155934735, 'mae': 0.28959609374999995, 'dice': 0.9718078763344138}\n",
      "2_ {'iou': 0.16535287254489725, 'mae': 3.076426536779836, 'dice': 0.22655496385578014}\n",
      "3_ {'iou': 0.3329568946075714, 'mae': 4.619883500514403, 'dice': 0.37318903854990093}\n",
      "6_ {'iou': 0.6823182699460442, 'mae': 4.107422501649445, 'dice': 0.7812902422910185}\n",
      "1_ {'iou': 0.5590792471690391, 'mae': 1.3695034428676864, 'dice': 0.6073315095132614}\n",
      "4_ {'iou': 0.433294778672132, 'mae': 3.3665029749657065, 'dice': 0.5166920725347691}\n"
     ]
    }
   ],
   "source": [
    "for video in wl[\"videos\"]:\n",
    "    print(video[\"video_id\"], video[\"avg_scores\"])"
   ]
  },
  {
   "cell_type": "code",
   "execution_count": 28,
   "id": "709710f7",
   "metadata": {},
   "outputs": [
    {
     "data": {
      "text/plain": [
       "{'video_id': '10_',\n",
       " 'order_in_video': 299,\n",
       " 'cat_scores': {0: {'iou': nan, 'mae': nan, 'dice': nan},\n",
       "  1: {'iou': nan, 'mae': nan, 'dice': nan},\n",
       "  2: {'iou': nan, 'mae': nan, 'dice': nan},\n",
       "  3: {'iou': 0.9420997531762667,\n",
       "   'mae': 0.34504002700617287,\n",
       "   'dice': 0.9701867801954877},\n",
       "  4: {'iou': nan, 'mae': nan, 'dice': nan}},\n",
       " 'avg_scores': {'iou': 0.9420997531762667,\n",
       "  'mae': 0.34504002700617287,\n",
       "  'dice': 0.9701867801954877}}"
      ]
     },
     "execution_count": 28,
     "metadata": {},
     "output_type": "execute_result"
    }
   ],
   "source": [
    "wl[\"videos\"][0][\"frames\"][299]"
   ]
  },
  {
   "cell_type": "code",
   "execution_count": 29,
   "id": "5ccf9821",
   "metadata": {},
   "outputs": [
    {
     "data": {
      "text/plain": [
       "{'iou': 0.11074978776528425,\n",
       " 'mae': 7.581283336892819,\n",
       " 'dice': 0.11363051488912279}"
      ]
     },
     "execution_count": 29,
     "metadata": {},
     "output_type": "execute_result"
    }
   ],
   "source": [
    "wl[\"videos\"][0][\"avg_scores\"]"
   ]
  },
  {
   "cell_type": "code",
   "execution_count": 30,
   "id": "cb2af0d8",
   "metadata": {},
   "outputs": [
    {
     "data": {
      "text/plain": [
       "{0: {'iou': 0.0, 'mae': 0.004581679894179894, 'dice': 0.0},\n",
       " 1: {'iou': nan, 'mae': nan, 'dice': nan},\n",
       " 2: {'iou': nan, 'mae': nan, 'dice': nan},\n",
       " 3: {'iou': 0.2214995755305685,\n",
       "  'mae': 15.157984993891459,\n",
       "  'dice': 0.22726102977824558},\n",
       " 4: {'iou': nan, 'mae': nan, 'dice': nan}}"
      ]
     },
     "execution_count": 30,
     "metadata": {},
     "output_type": "execute_result"
    }
   ],
   "source": [
    "wl[\"videos\"][0][\"cat_scores\"]"
   ]
  },
  {
   "cell_type": "code",
   "execution_count": null,
   "id": "5e59aead",
   "metadata": {},
   "outputs": [],
   "source": []
  },
  {
   "cell_type": "code",
   "execution_count": 33,
   "id": "d7ee5c3f",
   "metadata": {},
   "outputs": [
    {
     "data": {
      "text/plain": [
       "{0: {'iou': nan, 'mae': nan, 'dice': nan},\n",
       " 1: {'iou': 0.18572523479545666,\n",
       "  'mae': 12.239207059016088,\n",
       "  'dice': 0.20978812964005028},\n",
       " 2: {'iou': 0.763787091320631,\n",
       "  'mae': 0.49315109281472136,\n",
       "  'dice': 0.8196439570603646},\n",
       " 3: {'iou': nan, 'mae': nan, 'dice': nan},\n",
       " 4: {'iou': nan, 'mae': nan, 'dice': nan},\n",
       " 5: {'iou': nan, 'mae': nan, 'dice': nan},\n",
       " 6: {'iou': nan, 'mae': nan, 'dice': nan}}"
      ]
     },
     "execution_count": 33,
     "metadata": {},
     "output_type": "execute_result"
    }
   ],
   "source": [
    "my[\"videos\"][2][\"cat_scores\"]"
   ]
  },
  {
   "cell_type": "code",
   "execution_count": 34,
   "id": "98372816",
   "metadata": {},
   "outputs": [
    {
     "data": {
      "text/plain": [
       "75"
      ]
     },
     "execution_count": 34,
     "metadata": {},
     "output_type": "execute_result"
    }
   ],
   "source": [
    "len(my[\"videos\"][2][\"frames\"])"
   ]
  },
  {
   "cell_type": "code",
   "execution_count": null,
   "id": "723b683f",
   "metadata": {},
   "outputs": [],
   "source": []
  }
 ],
 "metadata": {
  "kernelspec": {
   "display_name": "sam2",
   "language": "python",
   "name": "python3"
  },
  "language_info": {
   "codemirror_mode": {
    "name": "ipython",
    "version": 3
   },
   "file_extension": ".py",
   "mimetype": "text/x-python",
   "name": "python",
   "nbconvert_exporter": "python",
   "pygments_lexer": "ipython3",
   "version": "3.12.10"
  }
 },
 "nbformat": 4,
 "nbformat_minor": 5
}
