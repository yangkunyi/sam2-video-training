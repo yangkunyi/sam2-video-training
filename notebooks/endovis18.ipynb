{
 "cells": [
  {
   "cell_type": "code",
   "execution_count": 1,
   "id": "661d4363",
   "metadata": {},
   "outputs": [],
   "source": [
    "from PIL import Image"
   ]
  },
  {
   "cell_type": "code",
   "execution_count": 2,
   "id": "4f143c04",
   "metadata": {},
   "outputs": [],
   "source": [
    "photo = Image.open(\n",
    "    \"/bd_byta6000i0/users/dataset/EndoVis_2018_Additional_Annotation/train/annotations/seq_1_frame039.png\"\n",
    ").convert(\"L\")"
   ]
  },
  {
   "cell_type": "code",
   "execution_count": 3,
   "id": "08b11aab",
   "metadata": {},
   "outputs": [],
   "source": [
    "import numpy as np\n"
   ]
  },
  {
   "cell_type": "code",
   "execution_count": 5,
   "id": "cbba9d89",
   "metadata": {},
   "outputs": [],
   "source": [
    "mask_np = np.array(photo)"
   ]
  },
  {
   "cell_type": "code",
   "execution_count": 7,
   "id": "8835246d",
   "metadata": {},
   "outputs": [
    {
     "data": {
      "text/plain": [
       "7"
      ]
     },
     "execution_count": 7,
     "metadata": {},
     "output_type": "execute_result"
    }
   ],
   "source": [
    "mask_np.max()"
   ]
  },
  {
   "cell_type": "code",
   "execution_count": null,
   "id": "581abf1e",
   "metadata": {},
   "outputs": [],
   "source": []
  }
 ],
 "metadata": {
  "kernelspec": {
   "display_name": "sam2",
   "language": "python",
   "name": "python3"
  },
  "language_info": {
   "codemirror_mode": {
    "name": "ipython",
    "version": 3
   },
   "file_extension": ".py",
   "mimetype": "text/x-python",
   "name": "python",
   "nbconvert_exporter": "python",
   "pygments_lexer": "ipython3",
   "version": "3.12.10"
  }
 },
 "nbformat": 4,
 "nbformat_minor": 5
}
